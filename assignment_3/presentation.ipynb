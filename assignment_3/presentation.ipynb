{
 "cells": [
  {
   "cell_type": "code",
   "execution_count": 1,
   "outputs": [],
   "source": [
    "# SC: https://medium.com/geekculture/introduction-to-convolutional-neural-network-with-tensorflow-and-keras-cb52cdc66eaf"
   ],
   "metadata": {
    "collapsed": false,
    "pycharm": {
     "name": "#%%\n"
    }
   }
  },
  {
   "cell_type": "code",
   "execution_count": 33,
   "outputs": [],
   "source": [
    "import numpy as np\n",
    "import tensorflow as tf\n",
    "from keras import layers, models\n",
    "from keras.datasets import cifar10\n",
    "import matplotlib.pyplot as plt\n",
    "from copy import copy"
   ],
   "metadata": {
    "collapsed": false,
    "pycharm": {
     "name": "#%%\n"
    }
   }
  },
  {
   "cell_type": "code",
   "execution_count": 3,
   "outputs": [
    {
     "name": "stdout",
     "output_type": "stream",
     "text": [
      "train size: 50000, test size: 10000\n"
     ]
    }
   ],
   "source": [
    "# image dataset\n",
    "(train_images, train_labels), (test_images, test_labels) = cifar10.load_data()\n",
    "\n",
    "# min-max normalization\n",
    "train_images, test_images = train_images / 255.0, test_images / 255.0\n",
    "\n",
    "print(f\"train size: {len(train_images)}, test size: {len(test_images)}\")"
   ],
   "metadata": {
    "collapsed": false,
    "pycharm": {
     "name": "#%%\n"
    }
   }
  },
  {
   "cell_type": "code",
   "execution_count": 4,
   "outputs": [
    {
     "data": {
      "text/plain": "<Figure size 432x288 with 1 Axes>",
      "image/png": "[encoded data removed]"
     },
     "metadata": {
      "needs_background": "light"
     },
     "output_type": "display_data"
    }
   ],
   "source": [
    "# check how images look\n",
    "IMG_INDEX = 112\n",
    "\n",
    "class_names = ['airplane', 'automobile', 'bird', 'cat', 'deer','dog', 'frog', 'horse', 'ship', 'truck']\n",
    "\n",
    "\n",
    "plt.imshow(train_images[IMG_INDEX] ,cmap=plt.cm.binary)\n",
    "plt.xlabel(f\"label: {class_names[train_labels[IMG_INDEX][0]]}\")\n",
    "plt.title(f\"image {IMG_INDEX}\")\n",
    "plt.show()"
   ],
   "metadata": {
    "collapsed": false,
    "pycharm": {
     "name": "#%%\n"
    }
   }
  },
  {
   "cell_type": "code",
   "execution_count": 5,
   "outputs": [],
   "source": [
    "# \"A common architecture for a CNN is a stack of Conv2D and MaxPooling2D layers followed by a few densely connected layers.\"\n",
    "\n",
    "model = models.Sequential()\n",
    "\n",
    "# https://machinelearningmastery.com/choose-an-activation-function-for-deep-learning/\n",
    "#  ReLU activation function, is perhaps the most common function used for hidden layers. It is common because it is both simple to implement and effective at overcoming the limitations of other previously popular activation functions\n",
    "\n",
    "model.add(layers.Conv2D(32, (3, 3), activation='relu', input_shape=(32, 32, 3)))\n",
    "model.add(layers.MaxPooling2D((2, 2)))\n",
    "model.add(layers.Conv2D(64, (3, 3), activation='relu'))\n",
    "model.add(layers.MaxPooling2D((2, 2)))\n",
    "model.add(layers.Conv2D(64, (3, 3), activation='relu'))"
   ],
   "metadata": {
    "collapsed": false,
    "pycharm": {
     "name": "#%%\n"
    }
   }
  },
  {
   "cell_type": "code",
   "execution_count": 6,
   "outputs": [
    {
     "name": "stdout",
     "output_type": "stream",
     "text": [
      "Model: \"sequential\"\n",
      "_________________________________________________________________\n",
      " Layer (type)                Output Shape              Param #   \n",
      "=================================================================\n",
      " conv2d (Conv2D)             (None, 30, 30, 32)        896       \n",
      "                                                                 \n",
      " max_pooling2d (MaxPooling2D  (None, 15, 15, 32)       0         \n",
      " )                                                               \n",
      "                                                                 \n",
      " conv2d_1 (Conv2D)           (None, 13, 13, 64)        18496     \n",
      "                                                                 \n",
      " max_pooling2d_1 (MaxPooling  (None, 6, 6, 64)         0         \n",
      " 2D)                                                             \n",
      "                                                                 \n",
      " conv2d_2 (Conv2D)           (None, 4, 4, 64)          36928     \n",
      "                                                                 \n",
      " flatten (Flatten)           (None, 1024)              0         \n",
      "                                                                 \n",
      " dense (Dense)               (None, 64)                65600     \n",
      "                                                                 \n",
      " dense_1 (Dense)             (None, 10)                650       \n",
      "                                                                 \n",
      "=================================================================\n",
      "Total params: 122,570\n",
      "Trainable params: 122,570\n",
      "Non-trainable params: 0\n",
      "_________________________________________________________________\n"
     ]
    }
   ],
   "source": [
    "model.add(layers.Flatten())\n",
    "model.add(layers.Dense(64, activation='relu'))\n",
    "model.add(layers.Dense(10))\n",
    "model.summary()"
   ],
   "metadata": {
    "collapsed": false,
    "pycharm": {
     "name": "#%%\n"
    }
   }
  },
  {
   "cell_type": "code",
   "execution_count": 7,
   "outputs": [
    {
     "name": "stdout",
     "output_type": "stream",
     "text": [
      "Epoch 1/5\n",
      "1563/1563 [==============================] - 22s 14ms/step - loss: 1.4895 - accuracy: 0.4554 - val_loss: 1.2353 - val_accuracy: 0.5567\n",
      "Epoch 2/5\n",
      "1563/1563 [==============================] - 20s 13ms/step - loss: 1.1491 - accuracy: 0.5923 - val_loss: 1.1062 - val_accuracy: 0.6067\n",
      "Epoch 3/5\n",
      "1563/1563 [==============================] - 21s 13ms/step - loss: 1.0023 - accuracy: 0.6489 - val_loss: 1.0046 - val_accuracy: 0.6526\n",
      "Epoch 4/5\n",
      "1563/1563 [==============================] - 21s 13ms/step - loss: 0.8968 - accuracy: 0.6875 - val_loss: 0.9143 - val_accuracy: 0.6816\n",
      "Epoch 5/5\n",
      "1563/1563 [==============================] - 21s 13ms/step - loss: 0.8171 - accuracy: 0.7123 - val_loss: 0.8789 - val_accuracy: 0.6947\n"
     ]
    }
   ],
   "source": [
    "model.compile(optimizer='adam', loss=tf.keras.losses.SparseCategoricalCrossentropy(from_logits=True), metrics=['accuracy'])\n",
    "history = model.fit(train_images, train_labels, epochs=5, validation_data=(test_images, test_labels))"
   ],
   "metadata": {
    "collapsed": false,
    "pycharm": {
     "name": "#%%\n"
    }
   }
  },
  {
   "cell_type": "code",
   "execution_count": 8,
   "outputs": [
    {
     "name": "stdout",
     "output_type": "stream",
     "text": [
      "313/313 - 1s - loss: 0.8789 - accuracy: 0.6947 - 1s/epoch - 4ms/step\n",
      "accuracy: 0.6947000026702881\n"
     ]
    }
   ],
   "source": [
    "est_loss, test_acc = model.evaluate(test_images, test_labels, verbose=2)\n",
    "print(f\"accuracy: {test_acc}\")"
   ],
   "metadata": {
    "collapsed": false,
    "pycharm": {
     "name": "#%%\n"
    }
   }
  },
  {
   "cell_type": "code",
   "execution_count": 9,
   "outputs": [
    {
     "name": "stdout",
     "output_type": "stream",
     "text": [
      "Model: \"sequential_1\"\n",
      "_________________________________________________________________\n",
      " Layer (type)                Output Shape              Param #   \n",
      "=================================================================\n",
      " conv2d_3 (Conv2D)           (None, 30, 30, 64)        1792      \n",
      "                                                                 \n",
      " max_pooling2d_2 (MaxPooling  (None, 15, 15, 64)       0         \n",
      " 2D)                                                             \n",
      "                                                                 \n",
      " conv2d_4 (Conv2D)           (None, 13, 13, 128)       73856     \n",
      "                                                                 \n",
      " max_pooling2d_3 (MaxPooling  (None, 4, 4, 128)        0         \n",
      " 2D)                                                             \n",
      "                                                                 \n",
      " conv2d_5 (Conv2D)           (None, 2, 2, 128)         147584    \n",
      "                                                                 \n",
      " flatten_1 (Flatten)         (None, 512)               0         \n",
      "                                                                 \n",
      " dense_2 (Dense)             (None, 128)               65664     \n",
      "                                                                 \n",
      " dense_3 (Dense)             (None, 10)                1290      \n",
      "                                                                 \n",
      "=================================================================\n",
      "Total params: 290,186\n",
      "Trainable params: 290,186\n",
      "Non-trainable params: 0\n",
      "_________________________________________________________________\n"
     ]
    }
   ],
   "source": [
    "# let's check if ioncreasing filters will increase performance of the model.\n",
    "\n",
    "model = models.Sequential()\n",
    "model.add(layers.Conv2D(64, (3, 3), activation='relu', input_shape=(32, 32, 3)))\n",
    "model.add(layers.MaxPooling2D((2, 2)))\n",
    "model.add(layers.Conv2D(128, (3, 3), activation='relu'))\n",
    "model.add(layers.MaxPooling2D((3, 3)))\n",
    "model.add(layers.Conv2D(128, (3, 3), activation='relu'))\n",
    "\n",
    "model.add(layers.Flatten())\n",
    "model.add(layers.Dense(128, activation='relu'))\n",
    "model.add(layers.Dense(10))\n",
    "model.summary()"
   ],
   "metadata": {
    "collapsed": false,
    "pycharm": {
     "name": "#%%\n"
    }
   }
  },
  {
   "cell_type": "code",
   "execution_count": 10,
   "outputs": [
    {
     "name": "stdout",
     "output_type": "stream",
     "text": [
      "Epoch 1/5\n",
      "1563/1563 [==============================] - 37s 24ms/step - loss: 1.4612 - accuracy: 0.4669 - val_loss: 1.1872 - val_accuracy: 0.5830\n",
      "Epoch 2/5\n",
      "1563/1563 [==============================] - 39s 25ms/step - loss: 1.0697 - accuracy: 0.6205 - val_loss: 1.0367 - val_accuracy: 0.6358\n",
      "Epoch 3/5\n",
      "1563/1563 [==============================] - 40s 25ms/step - loss: 0.9086 - accuracy: 0.6817 - val_loss: 0.9160 - val_accuracy: 0.6842\n",
      "Epoch 4/5\n",
      "1563/1563 [==============================] - 38s 24ms/step - loss: 0.8034 - accuracy: 0.7179 - val_loss: 0.8715 - val_accuracy: 0.7034\n",
      "Epoch 5/5\n",
      "1563/1563 [==============================] - 37s 24ms/step - loss: 0.7240 - accuracy: 0.7458 - val_loss: 0.9055 - val_accuracy: 0.6929\n"
     ]
    },
    {
     "data": {
      "text/plain": "<keras.callbacks.History at 0x1f0182058a0>"
     },
     "execution_count": 10,
     "metadata": {},
     "output_type": "execute_result"
    }
   ],
   "source": [
    "model.compile(optimizer='adam', loss=tf.keras.losses.SparseCategoricalCrossentropy(from_logits=True), metrics=['accuracy'])\n",
    "model.fit(train_images, train_labels, epochs=5, validation_data=(test_images, test_labels))"
   ],
   "metadata": {
    "collapsed": false,
    "pycharm": {
     "name": "#%%\n"
    }
   }
  },
  {
   "cell_type": "code",
   "execution_count": 11,
   "outputs": [
    {
     "name": "stdout",
     "output_type": "stream",
     "text": [
      "313/313 - 2s - loss: 0.9055 - accuracy: 0.6929 - 2s/epoch - 7ms/step\n",
      "accuracy: 0.6929000020027161\n"
     ]
    }
   ],
   "source": [
    "est_loss, test_acc = model.evaluate(test_images, test_labels, verbose=2)\n",
    "print(f\"accuracy: {test_acc}\")"
   ],
   "metadata": {
    "collapsed": false,
    "pycharm": {
     "name": "#%%\n"
    }
   }
  },
  {
   "cell_type": "code",
   "execution_count": 34,
   "outputs": [
    {
     "data": {
      "text/plain": "array([-1, -1, -1, ..., -1, -1, -1])"
     },
     "execution_count": 34,
     "metadata": {},
     "output_type": "execute_result"
    }
   ],
   "source": [
    "np.array([num[0] if num == 0 else -1 for num in train_labels])"
   ],
   "metadata": {
    "collapsed": false,
    "pycharm": {
     "name": "#%%\n"
    }
   }
  },
  {
   "cell_type": "code",
   "execution_count": 29,
   "outputs": [
    {
     "data": {
      "text/plain": "array([[6],\n       [9],\n       [9],\n       ...,\n       [9],\n       [1],\n       [1]], dtype=uint8)"
     },
     "execution_count": 29,
     "metadata": {},
     "output_type": "execute_result"
    }
   ],
   "source": [
    "train_labels"
   ],
   "metadata": {
    "collapsed": false,
    "pycharm": {
     "name": "#%%\n"
    }
   }
  },
  {
   "cell_type": "markdown",
   "source": [
    "now check 1 vs all for each class."
   ],
   "metadata": {
    "collapsed": false,
    "pycharm": {
     "name": "#%% md\n"
    }
   }
  },
  {
   "cell_type": "code",
   "execution_count": 42,
   "outputs": [
    {
     "name": "stdout",
     "output_type": "stream",
     "text": [
      "Epoch 1/5\n",
      "1563/1563 [==============================] - 22s 14ms/step - loss: 0.2367 - accuracy: 0.9121 - val_loss: 0.1929 - val_accuracy: 0.9251\n",
      "Epoch 2/5\n",
      "1563/1563 [==============================] - 22s 14ms/step - loss: 0.1869 - accuracy: 0.9304 - val_loss: 0.1716 - val_accuracy: 0.9344\n",
      "Epoch 3/5\n",
      "1563/1563 [==============================] - 23s 15ms/step - loss: 0.1654 - accuracy: 0.9396 - val_loss: 0.1553 - val_accuracy: 0.9412\n",
      "Epoch 4/5\n",
      "1563/1563 [==============================] - 21s 13ms/step - loss: 0.1495 - accuracy: 0.9460 - val_loss: 0.1489 - val_accuracy: 0.9463\n",
      "Epoch 5/5\n",
      "1563/1563 [==============================] - 20s 13ms/step - loss: 0.1362 - accuracy: 0.9492 - val_loss: 0.1495 - val_accuracy: 0.9432\n",
      "313/313 - 1s - loss: 0.1495 - accuracy: 0.9432 - 1s/epoch - 4ms/step\n",
      "0: airplane; accuracy: 0.9431999921798706\n",
      "Epoch 1/5\n",
      "1563/1563 [==============================] - 20s 12ms/step - loss: 0.1946 - accuracy: 0.9281 - val_loss: 0.1428 - val_accuracy: 0.9459\n",
      "Epoch 2/5\n",
      "1563/1563 [==============================] - 19s 12ms/step - loss: 0.1233 - accuracy: 0.9540 - val_loss: 0.1062 - val_accuracy: 0.9596\n",
      "Epoch 3/5\n",
      "1563/1563 [==============================] - 21s 14ms/step - loss: 0.0974 - accuracy: 0.9648 - val_loss: 0.0965 - val_accuracy: 0.9660\n",
      "Epoch 4/5\n",
      "1563/1563 [==============================] - 20s 13ms/step - loss: 0.0803 - accuracy: 0.9721 - val_loss: 0.0911 - val_accuracy: 0.9667\n",
      "Epoch 5/5\n",
      "1563/1563 [==============================] - 21s 13ms/step - loss: 0.0670 - accuracy: 0.9765 - val_loss: 0.0973 - val_accuracy: 0.9659\n",
      "313/313 - 1s - loss: 0.0973 - accuracy: 0.9659 - 1s/epoch - 4ms/step\n",
      "1: automobile; accuracy: 0.9659000039100647\n",
      "Epoch 1/5\n",
      "1563/1563 [==============================] - 21s 13ms/step - loss: 0.2846 - accuracy: 0.8996 - val_loss: 0.2563 - val_accuracy: 0.9011\n",
      "Epoch 2/5\n",
      "1563/1563 [==============================] - 20s 13ms/step - loss: 0.2380 - accuracy: 0.9130 - val_loss: 0.2305 - val_accuracy: 0.9129\n",
      "Epoch 3/5\n",
      "1563/1563 [==============================] - 22s 14ms/step - loss: 0.2173 - accuracy: 0.9198 - val_loss: 0.2172 - val_accuracy: 0.9219\n",
      "Epoch 4/5\n",
      "1563/1563 [==============================] - 20s 13ms/step - loss: 0.2004 - accuracy: 0.9235 - val_loss: 0.2094 - val_accuracy: 0.9225\n",
      "Epoch 5/5\n",
      "1563/1563 [==============================] - 20s 13ms/step - loss: 0.1867 - accuracy: 0.9297 - val_loss: 0.2125 - val_accuracy: 0.9222\n",
      "313/313 - 1s - loss: 0.2125 - accuracy: 0.9222 - 1s/epoch - 4ms/step\n",
      "2: bird; accuracy: 0.9222000241279602\n",
      "Epoch 1/5\n",
      "1563/1563 [==============================] - 21s 13ms/step - loss: 0.2849 - accuracy: 0.9001 - val_loss: 0.2621 - val_accuracy: 0.9000\n",
      "Epoch 2/5\n",
      "1563/1563 [==============================] - 20s 12ms/step - loss: 0.2559 - accuracy: 0.9004 - val_loss: 0.2491 - val_accuracy: 0.9034\n",
      "Epoch 3/5\n",
      "1563/1563 [==============================] - 20s 13ms/step - loss: 0.2405 - accuracy: 0.9045 - val_loss: 0.2365 - val_accuracy: 0.9091\n",
      "Epoch 4/5\n",
      "1563/1563 [==============================] - 21s 14ms/step - loss: 0.2281 - accuracy: 0.9093 - val_loss: 0.2393 - val_accuracy: 0.9070\n",
      "Epoch 5/5\n",
      "1563/1563 [==============================] - 22s 14ms/step - loss: 0.2127 - accuracy: 0.9151 - val_loss: 0.2233 - val_accuracy: 0.9134\n",
      "313/313 - 1s - loss: 0.2233 - accuracy: 0.9134 - 1s/epoch - 4ms/step\n",
      "3: cat; accuracy: 0.9133999943733215\n",
      "Epoch 1/5\n",
      "1563/1563 [==============================] - 21s 13ms/step - loss: 0.2747 - accuracy: 0.8996 - val_loss: 0.2459 - val_accuracy: 0.9000\n",
      "Epoch 2/5\n",
      "1563/1563 [==============================] - 20s 13ms/step - loss: 0.2365 - accuracy: 0.9092 - val_loss: 0.2864 - val_accuracy: 0.8722\n",
      "Epoch 3/5\n",
      "1563/1563 [==============================] - 19s 12ms/step - loss: 0.2104 - accuracy: 0.9177 - val_loss: 0.2009 - val_accuracy: 0.9199\n",
      "Epoch 4/5\n",
      "1563/1563 [==============================] - 20s 13ms/step - loss: 0.1884 - accuracy: 0.9274 - val_loss: 0.1851 - val_accuracy: 0.9286\n",
      "Epoch 5/5\n",
      "1563/1563 [==============================] - 20s 12ms/step - loss: 0.1713 - accuracy: 0.9331 - val_loss: 0.1917 - val_accuracy: 0.9226\n",
      "313/313 - 1s - loss: 0.1917 - accuracy: 0.9226 - 1s/epoch - 3ms/step\n",
      "4: deer; accuracy: 0.9225999712944031\n",
      "Epoch 1/5\n",
      "1563/1563 [==============================] - 20s 13ms/step - loss: 0.2586 - accuracy: 0.9058 - val_loss: 0.2153 - val_accuracy: 0.9152\n",
      "Epoch 2/5\n",
      "1563/1563 [==============================] - 19s 12ms/step - loss: 0.2146 - accuracy: 0.9183 - val_loss: 0.2079 - val_accuracy: 0.9229\n",
      "Epoch 3/5\n",
      "1563/1563 [==============================] - 20s 13ms/step - loss: 0.1979 - accuracy: 0.9237 - val_loss: 0.1911 - val_accuracy: 0.9253\n",
      "Epoch 4/5\n",
      "1563/1563 [==============================] - 19s 12ms/step - loss: 0.1858 - accuracy: 0.9289 - val_loss: 0.1948 - val_accuracy: 0.9236\n",
      "Epoch 5/5\n",
      "1563/1563 [==============================] - 21s 13ms/step - loss: 0.1702 - accuracy: 0.9371 - val_loss: 0.1800 - val_accuracy: 0.9309\n",
      "313/313 - 1s - loss: 0.1800 - accuracy: 0.9309 - 1s/epoch - 4ms/step\n",
      "5: dog; accuracy: 0.930899977684021\n",
      "Epoch 1/5\n",
      "1563/1563 [==============================] - 23s 14ms/step - loss: 0.2309 - accuracy: 0.9114 - val_loss: 0.2079 - val_accuracy: 0.9229\n",
      "Epoch 2/5\n",
      "1563/1563 [==============================] - 22s 14ms/step - loss: 0.1669 - accuracy: 0.9363 - val_loss: 0.1425 - val_accuracy: 0.9456\n",
      "Epoch 3/5\n",
      "1563/1563 [==============================] - 21s 13ms/step - loss: 0.1435 - accuracy: 0.9456 - val_loss: 0.1345 - val_accuracy: 0.9478\n",
      "Epoch 4/5\n",
      "1563/1563 [==============================] - 21s 13ms/step - loss: 0.1258 - accuracy: 0.9525 - val_loss: 0.1308 - val_accuracy: 0.9527\n",
      "Epoch 5/5\n",
      "1563/1563 [==============================] - 21s 14ms/step - loss: 0.1143 - accuracy: 0.9570 - val_loss: 0.1237 - val_accuracy: 0.9544\n",
      "313/313 - 1s - loss: 0.1237 - accuracy: 0.9544 - 1s/epoch - 4ms/step\n",
      "6: frog; accuracy: 0.9544000029563904\n",
      "Epoch 1/5\n",
      "1563/1563 [==============================] - 20s 13ms/step - loss: 0.2324 - accuracy: 0.9198 - val_loss: 0.1866 - val_accuracy: 0.9312\n",
      "Epoch 2/5\n",
      "1563/1563 [==============================] - 21s 14ms/step - loss: 0.1633 - accuracy: 0.9429 - val_loss: 0.1503 - val_accuracy: 0.9456\n",
      "Epoch 3/5\n",
      "1563/1563 [==============================] - 21s 13ms/step - loss: 0.1415 - accuracy: 0.9502 - val_loss: 0.1418 - val_accuracy: 0.9501\n",
      "Epoch 4/5\n",
      "1563/1563 [==============================] - 21s 13ms/step - loss: 0.1266 - accuracy: 0.9552 - val_loss: 0.1511 - val_accuracy: 0.9474\n",
      "Epoch 5/5\n",
      "1563/1563 [==============================] - 23s 15ms/step - loss: 0.1151 - accuracy: 0.9596 - val_loss: 0.1286 - val_accuracy: 0.9527\n",
      "313/313 - 1s - loss: 0.1286 - accuracy: 0.9527 - 1s/epoch - 4ms/step\n",
      "7: horse; accuracy: 0.9527000188827515\n",
      "Epoch 1/5\n",
      "1563/1563 [==============================] - 22s 14ms/step - loss: 0.2016 - accuracy: 0.9227 - val_loss: 0.1515 - val_accuracy: 0.9427\n",
      "Epoch 2/5\n",
      "1563/1563 [==============================] - 21s 13ms/step - loss: 0.1410 - accuracy: 0.9470 - val_loss: 0.1236 - val_accuracy: 0.9542\n",
      "Epoch 3/5\n",
      "1563/1563 [==============================] - 21s 14ms/step - loss: 0.1187 - accuracy: 0.9554 - val_loss: 0.1147 - val_accuracy: 0.9589\n",
      "Epoch 4/5\n",
      "1563/1563 [==============================] - 22s 14ms/step - loss: 0.1025 - accuracy: 0.9627 - val_loss: 0.1147 - val_accuracy: 0.9577\n",
      "Epoch 5/5\n",
      "1563/1563 [==============================] - 21s 13ms/step - loss: 0.0917 - accuracy: 0.9668 - val_loss: 0.1084 - val_accuracy: 0.9592\n",
      "313/313 - 1s - loss: 0.1084 - accuracy: 0.9592 - 1s/epoch - 4ms/step\n",
      "8: ship; accuracy: 0.9592000246047974\n",
      "Epoch 1/5\n",
      "1563/1563 [==============================] - 22s 14ms/step - loss: 0.2353 - accuracy: 0.9099 - val_loss: 0.2062 - val_accuracy: 0.9153\n",
      "Epoch 2/5\n",
      "1563/1563 [==============================] - 21s 13ms/step - loss: 0.1692 - accuracy: 0.9353 - val_loss: 0.1500 - val_accuracy: 0.9425\n",
      "Epoch 3/5\n",
      "1563/1563 [==============================] - 21s 14ms/step - loss: 0.1370 - accuracy: 0.9481 - val_loss: 0.1286 - val_accuracy: 0.9500\n",
      "Epoch 4/5\n",
      "1563/1563 [==============================] - 21s 14ms/step - loss: 0.1177 - accuracy: 0.9565 - val_loss: 0.1212 - val_accuracy: 0.9531\n",
      "Epoch 5/5\n",
      "1563/1563 [==============================] - 22s 14ms/step - loss: 0.1043 - accuracy: 0.9616 - val_loss: 0.1177 - val_accuracy: 0.9557\n",
      "313/313 - 1s - loss: 0.1177 - accuracy: 0.9557 - 1s/epoch - 4ms/step\n",
      "9: truck; accuracy: 0.9556999802589417\n"
     ]
    }
   ],
   "source": [
    "class_names = ['airplane', 'automobile', 'bird', 'cat', 'deer','dog', 'frog', 'horse', 'ship', 'truck']\n",
    "\n",
    "for c_i, class_name in enumerate(class_names):\n",
    "     train_labels_temp = np.array([1 if num == c_i else 0 for num in train_labels])\n",
    "     test_labels_temp = np.array([1 if num == c_i else 0 for num in test_labels])\n",
    "\n",
    "     # MODEL PREPARATION\n",
    "     model = models.Sequential()\n",
    "     model.add(layers.Conv2D(32, (3, 3), activation='relu', input_shape=(32, 32, 3)))\n",
    "     model.add(layers.MaxPooling2D((2, 2)))\n",
    "     model.add(layers.Conv2D(64, (3, 3), activation='relu'))\n",
    "     model.add(layers.MaxPooling2D((2, 2)))\n",
    "     model.add(layers.Conv2D(64, (3, 3), activation='relu'))\n",
    "     model.add(layers.Flatten())\n",
    "     model.add(layers.Dense(64, activation='relu'))\n",
    "     model.add(layers.Dense(2))\n",
    "\n",
    "\n",
    "     # compiling\n",
    "     model.compile(optimizer='adam', loss=tf.keras.losses.SparseCategoricalCrossentropy(from_logits=True), metrics=['accuracy'])\n",
    "     model.fit(train_images, train_labels_temp, epochs=5, validation_data=(test_images, test_labels_temp))\n",
    "\n",
    "     # results\n",
    "     est_loss, test_acc = model.evaluate(test_images, test_labels_temp, verbose=2)\n",
    "     print(f\"{c_i}: {class_name}; accuracy: {test_acc}\")"
   ],
   "metadata": {
    "collapsed": false,
    "pycharm": {
     "name": "#%%\n"
    }
   }
  },
  {
   "cell_type": "code",
   "execution_count": null,
   "outputs": [],
   "source": [
    "# TODO: check metrics change from accuracy to mse"
   ],
   "metadata": {
    "collapsed": false,
    "pycharm": {
     "name": "#%%\n"
    }
   }
  },
  {
   "cell_type": "code",
   "execution_count": 43,
   "outputs": [
    {
     "name": "stdout",
     "output_type": "stream",
     "text": [
      "Epoch 1/5\n",
      "1563/1563 [==============================] - 21s 13ms/step - loss: 1.5351 - mse: 38.0379 - val_loss: 1.2769 - val_mse: 41.2943\n",
      "Epoch 2/5\n",
      "1563/1563 [==============================] - 23s 14ms/step - loss: 1.1571 - mse: 43.4421 - val_loss: 1.1072 - val_mse: 44.7517\n",
      "Epoch 3/5\n",
      "1563/1563 [==============================] - 21s 13ms/step - loss: 1.0172 - mse: 45.9966 - val_loss: 1.0544 - val_mse: 46.4795\n",
      "Epoch 4/5\n",
      "1563/1563 [==============================] - 19s 12ms/step - loss: 0.9217 - mse: 47.7729 - val_loss: 0.9657 - val_mse: 47.9885\n",
      "Epoch 5/5\n",
      "1563/1563 [==============================] - 19s 12ms/step - loss: 0.8449 - mse: 50.3419 - val_loss: 0.8935 - val_mse: 48.2789\n"
     ]
    }
   ],
   "source": [
    "model = models.Sequential()\n",
    "model.add(layers.Conv2D(32, (3, 3), activation='relu', input_shape=(32, 32, 3)))\n",
    "model.add(layers.MaxPooling2D((2, 2)))\n",
    "model.add(layers.Conv2D(64, (3, 3), activation='relu'))\n",
    "model.add(layers.MaxPooling2D((2, 2)))\n",
    "model.add(layers.Conv2D(64, (3, 3), activation='relu'))\n",
    "model.add(layers.Flatten())\n",
    "model.add(layers.Dense(64, activation='relu'))\n",
    "model.add(layers.Dense(10))\n",
    "model.compile(optimizer='adam', loss=tf.keras.losses.SparseCategoricalCrossentropy(from_logits=True), metrics=['mse'])\n",
    "history = model.fit(train_images, train_labels, epochs=5, validation_data=(test_images, test_labels))"
   ],
   "metadata": {
    "collapsed": false,
    "pycharm": {
     "name": "#%%\n"
    }
   }
  },
  {
   "cell_type": "code",
   "execution_count": 50,
   "outputs": [
    {
     "name": "stdout",
     "output_type": "stream",
     "text": [
      "313/313 - 1s - loss: 0.8935 - mse: 48.2789 - 1s/epoch - 4ms/step\n",
      "loss: 0.8935045003890991\n"
     ]
    }
   ],
   "source": [
    "est_loss, test_acc = model.evaluate(test_images, test_labels, verbose=2)\n",
    "print(f\"loss: {est_loss}\")"
   ],
   "metadata": {
    "collapsed": false,
    "pycharm": {
     "name": "#%%\n"
    }
   }
  },
  {
   "cell_type": "code",
   "execution_count": null,
   "outputs": [],
   "source": [],
   "metadata": {
    "collapsed": false,
    "pycharm": {
     "name": "#%%\n"
    }
   }
  }
 ],
 "metadata": {
  "kernelspec": {
   "display_name": "Python 3",
   "language": "python",
   "name": "python3"
  },
  "language_info": {
   "codemirror_mode": {
    "name": "ipython",
    "version": 2
   },
   "file_extension": ".py",
   "mimetype": "text/x-python",
   "name": "python",
   "nbconvert_exporter": "python",
   "pygments_lexer": "ipython2",
   "version": "2.7.6"
  }
 },
 "nbformat": 4,
 "nbformat_minor": 0
}